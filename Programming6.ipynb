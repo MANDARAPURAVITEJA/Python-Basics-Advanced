{
 "cells": [
  {
   "cell_type": "markdown",
   "id": "acbe05fc",
   "metadata": {},
   "source": [
    "1. Write a Python Program to Display Fibonacci Sequence Using Recursion?"
   ]
  },
  {
   "cell_type": "code",
   "execution_count": 1,
   "id": "b092bab7",
   "metadata": {},
   "outputs": [
    {
     "name": "stdout",
     "output_type": "stream",
     "text": [
      "How many terms 6\n",
      "Fibonacci sequence:\n",
      "0\n",
      "1\n",
      "1\n",
      "2\n",
      "3\n",
      "5\n"
     ]
    }
   ],
   "source": [
    "def fibonacci(n):\n",
    "    if(n<=1):\n",
    "        return n\n",
    "    else:\n",
    "        return(fibonacci(n-1)+fibonacci(n-2))\n",
    "\n",
    "n = int(input(\"How many terms \"))  \n",
    "# check if the number of terms is valid  \n",
    "if n <= 0:  \n",
    "    print(\"Plese enter a positive integer\")  \n",
    "else:\n",
    "    print(\"Fibonacci sequence:\")\n",
    "    for i in range(n):\n",
    "        print(fibonacci(i))  "
   ]
  },
  {
   "cell_type": "markdown",
   "id": "194cea87",
   "metadata": {},
   "source": [
    "2 . Write a Python Program to Find Factorial of Number Using Recursion?"
   ]
  },
  {
   "cell_type": "code",
   "execution_count": 2,
   "id": "76358180",
   "metadata": {},
   "outputs": [
    {
     "name": "stdout",
     "output_type": "stream",
     "text": [
      "720\n"
     ]
    }
   ],
   "source": [
    "def fact(n):\n",
    "    if(n==1):\n",
    "        return n\n",
    "    else:\n",
    "        return n*fact(n-1)\n",
    "print(fact(6))"
   ]
  },
  {
   "cell_type": "markdown",
   "id": "b50c7f14",
   "metadata": {},
   "source": [
    "3 . Write a Python Program to calculate your Body Mass Index?"
   ]
  },
  {
   "cell_type": "code",
   "execution_count": 3,
   "id": "00ed0ebd",
   "metadata": {},
   "outputs": [
    {
     "name": "stdout",
     "output_type": "stream",
     "text": [
      "Enter height in meters: 1.2\n",
      "Enter weight in Kilograms: 55\n",
      "Your BMI is: 38.19444444444444\n"
     ]
    }
   ],
   "source": [
    "#BMI=weight/height**2\n",
    "h = float(input(\"Enter height in meters: \"))  \n",
    "w = float(input(\"Enter weight in Kilograms: \"))  \n",
    "BMI=w/(h**2)\n",
    "print(\"Your BMI is:\",BMI)"
   ]
  },
  {
   "cell_type": "markdown",
   "id": "8b45d69d",
   "metadata": {},
   "source": [
    "4 . Write a Python Program to calculate the natural logarithm of any number?"
   ]
  },
  {
   "cell_type": "code",
   "execution_count": 4,
   "id": "d59b7ff5",
   "metadata": {},
   "outputs": [
    {
     "name": "stdout",
     "output_type": "stream",
     "text": [
      "Enter a number: 5\n",
      "1.6094379124341003\n"
     ]
    }
   ],
   "source": [
    "import math\n",
    "n=float(input(\"Enter a number: \"))\n",
    "logvalue=math.log(n)\n",
    "print(logvalue)"
   ]
  },
  {
   "cell_type": "markdown",
   "id": "bca24e1f",
   "metadata": {},
   "source": [
    "5 . Write a Python Program for cube sum of first n natural numbers?"
   ]
  },
  {
   "cell_type": "code",
   "execution_count": 5,
   "id": "15a09b30",
   "metadata": {},
   "outputs": [
    {
     "name": "stdout",
     "output_type": "stream",
     "text": [
      "How many terms 4\n",
      "100\n"
     ]
    }
   ],
   "source": [
    "n = int(input(\"How many terms \"))  \n",
    "cube=0\n",
    "for i in range(1,n+1):\n",
    "    cube=cube+i**3\n",
    "print(cube)"
   ]
  },
  {
   "cell_type": "code",
   "execution_count": null,
   "id": "fc5564ec",
   "metadata": {},
   "outputs": [],
   "source": []
  }
 ],
 "metadata": {
  "kernelspec": {
   "display_name": "Python 3 (ipykernel)",
   "language": "python",
   "name": "python3"
  },
  "language_info": {
   "codemirror_mode": {
    "name": "ipython",
    "version": 3
   },
   "file_extension": ".py",
   "mimetype": "text/x-python",
   "name": "python",
   "nbconvert_exporter": "python",
   "pygments_lexer": "ipython3",
   "version": "3.9.12"
  }
 },
 "nbformat": 4,
 "nbformat_minor": 5
}
