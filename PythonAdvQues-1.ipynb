{
 "cells": [
  {
   "cell_type": "markdown",
   "id": "bd89190c",
   "metadata": {},
   "source": [
    "#### Q1. What is the purpose of Python’s OOP?\n",
    "Ans: OOPs aims to implement real-world entities like inheritance, hiding, polymorphism etc. in programming. The main aim of OOPs is to bind the data together into a function, so that no other part to code can able to access it except that function.\n",
    "\n",
    "#### Q2. Where does an inheritance search look for an attribute?\n",
    "Ans: Python, inheritance happens when an object is qualified, and involves searching an attribute definition tree (one or more namespaces). Every time you use an expression of the form object.attribute where object is an instance or class object, Python searches the namespace tree at and above object, for the first attr it can find. Because lower definitions in the tree override higher ones, inheritance forms the basis of specialization.\n",
    "\n",
    "#### Q3. How do you distinguish between a class object and an instance object?\n",
    "Ans: when we create a class in python then a class object is created so whenever python finds a class statement in the whole program then it creates a class object and assigns a name to that object i.e. class name. \n",
    "Ex: class MyClass:\n",
    " \tpass\n",
    "when we call a class, it creates an instance object of that class from which the object has been created.\n",
    "Ex: Obj1=MyClass()\n",
    "class object is like a blueprint for instance object but instance object is a concrete item in out code.\n",
    "\n",
    "#### Q4. What makes the first argument in a class’s method function special?\n",
    "Ans: The calling process is automatic while the receiving process is not (its explicit). This is the reason the first parameter of a function in class must be the object itself.\n",
    "\n",
    "#### Q5. What is the purpose of the __init__ method?\n",
    "Ans: __init__ method is a constructor for a class and lets the class initialize the object's attributes and serves no other purpose. The __init__ function is called every time an object is created from a class.\n",
    "\n",
    "#### Q6. What is the process for creating a class instance?\n",
    "Ans: Calling ClassName() to create a new instance of the class ClassName . To pass parameters to the class instance, the class must have an __init__() method. Pass the parameters in the constructor of the class.\n",
    "Ex:  class ClassName:\n",
    "\tpass\n",
    "object=ClassName()\n",
    "\n",
    "#### Q7. What is the process for creating a class?\n",
    "Ans: For creating a class, we have to mention class followed by ClassName. And we can use use __init__ method, user-defined and predefined methods inside a class.\n",
    "Ex: class ClassName:\n",
    "\tdef __init__(self):\n",
    "\t\tpass\n",
    "object=ClassName()\n",
    "\n",
    "#### Q8. How would you define the superclasses of a class?\n",
    "Ans: A superclass is the class from which many subclasses can be created. The subclasses inherit the characteristics of a superclass. The superclass is also known as the parent class or base class.\n"
   ]
  }
 ],
 "metadata": {
  "kernelspec": {
   "display_name": "Python 3 (ipykernel)",
   "language": "python",
   "name": "python3"
  },
  "language_info": {
   "codemirror_mode": {
    "name": "ipython",
    "version": 3
   },
   "file_extension": ".py",
   "mimetype": "text/x-python",
   "name": "python",
   "nbconvert_exporter": "python",
   "pygments_lexer": "ipython3",
   "version": "3.9.12"
  }
 },
 "nbformat": 4,
 "nbformat_minor": 5
}
