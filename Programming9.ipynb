{
 "cells": [
  {
   "cell_type": "markdown",
   "id": "a1b9d44f",
   "metadata": {},
   "source": [
    "1. Write a Python program to check if the given number is a Disarium Number?"
   ]
  },
  {
   "cell_type": "code",
   "execution_count": 1,
   "id": "c91e813c",
   "metadata": {},
   "outputs": [
    {
     "name": "stdout",
     "output_type": "stream",
     "text": [
      "Enter a number: 89\n",
      "89 is a disarium number\n"
     ]
    }
   ],
   "source": [
    "num=int(input(\"Enter a number: \"))\n",
    "sum=0\n",
    "n=num\n",
    "l=len(str(num))\n",
    "while(num > 0):    \n",
    "    rem = num%10;    \n",
    "    sum = sum + int(rem**l);    \n",
    "    num = num//10;    \n",
    "    l = l - 1;    \n",
    "     \n",
    "#Checks whether the sum is equal to the number itself    \n",
    "if(sum == n):    \n",
    "    print(str(n) + \" is a disarium number\");    \n",
    "else:    \n",
    "    print(str(n) + \" is not a disarium number\");      "
   ]
  },
  {
   "cell_type": "markdown",
   "id": "512d11c9",
   "metadata": {},
   "source": [
    "2 . Write a Python program to print all disarium numbers between 1 to 100?"
   ]
  },
  {
   "cell_type": "code",
   "execution_count": 2,
   "id": "2286adcd",
   "metadata": {},
   "outputs": [
    {
     "name": "stdout",
     "output_type": "stream",
     "text": [
      "1\n",
      "2\n",
      "3\n",
      "4\n",
      "5\n",
      "6\n",
      "7\n",
      "8\n",
      "9\n",
      "89\n"
     ]
    }
   ],
   "source": [
    "for num in range(1,101):\n",
    "    sum=0\n",
    "    n=num\n",
    "    l=len(str(num))\n",
    "    while(num > 0):    \n",
    "        rem = num%10;    \n",
    "        sum = sum + int(rem**l);    \n",
    "        num = num//10;    \n",
    "        l = l - 1\n",
    "    if(sum==n):\n",
    "        print(n)"
   ]
  },
  {
   "cell_type": "markdown",
   "id": "6d488e6e",
   "metadata": {},
   "source": [
    "3 . Write a Python program to check if the given number is Happy Number?"
   ]
  },
  {
   "cell_type": "code",
   "execution_count": 3,
   "id": "5b2da562",
   "metadata": {},
   "outputs": [
    {
     "name": "stdout",
     "output_type": "stream",
     "text": [
      "Enter a number: 32\n",
      "Happy number\n"
     ]
    }
   ],
   "source": [
    "num=int(input(\"Enter a number: \"))\n",
    "sum=0\n",
    "while(num!=0):   \n",
    "    rem = num%10;    \n",
    "    sum = sum + int(rem**2);    \n",
    "    num = num//10;    \n",
    "    if(num==0):\n",
    "        num=sum; sum=0\n",
    "        if(num<10):\n",
    "            break\n",
    "if(num==1):\n",
    "    print(\"Happy number\")\n",
    "else:\n",
    "    print(\"Not a Happy number\")"
   ]
  },
  {
   "cell_type": "markdown",
   "id": "6a68f28a",
   "metadata": {},
   "source": [
    "4 . Write a Python program to print all happy numbers between 1 and 100?"
   ]
  },
  {
   "cell_type": "code",
   "execution_count": 4,
   "id": "76f69479",
   "metadata": {},
   "outputs": [
    {
     "name": "stdout",
     "output_type": "stream",
     "text": [
      "1\n",
      "7\n",
      "10\n",
      "13\n",
      "19\n",
      "23\n",
      "28\n",
      "31\n",
      "32\n",
      "44\n",
      "49\n",
      "68\n",
      "70\n",
      "79\n",
      "82\n",
      "86\n",
      "91\n",
      "94\n",
      "97\n",
      "100\n"
     ]
    }
   ],
   "source": [
    "for i in range(1,101):\n",
    "    sum=0\n",
    "    num=i\n",
    "    while(num!=0):   \n",
    "        rem = num%10;    \n",
    "        sum = sum + int(rem**2);    \n",
    "        num = num//10;    \n",
    "        if(num==0):\n",
    "            num=sum; sum=0\n",
    "            if(num<10):\n",
    "                break\n",
    "    if(num==1):\n",
    "        print(i)"
   ]
  },
  {
   "cell_type": "markdown",
   "id": "85729117",
   "metadata": {},
   "source": [
    "5 . Write a Python program to determine whether the given number is a Harshad Number?"
   ]
  },
  {
   "cell_type": "code",
   "execution_count": 5,
   "id": "aa01b771",
   "metadata": {},
   "outputs": [
    {
     "name": "stdout",
     "output_type": "stream",
     "text": [
      "Yes\n"
     ]
    }
   ],
   "source": [
    "def checkHarshad(n):\n",
    "    st = str(n)\n",
    "    sum = 0\n",
    "    length = len(st)\n",
    "\n",
    "    for i in st:\n",
    "\n",
    "        sum = sum + int(i)\n",
    "        \n",
    "    if (n % sum == 0):\n",
    "        return \"Yes\"\n",
    "    else:\n",
    "        return \"No\"\n",
    " \n",
    " \n",
    "\n",
    "number = 18\n",
    "print(checkHarshad(number))"
   ]
  },
  {
   "cell_type": "markdown",
   "id": "cd2ecaac",
   "metadata": {},
   "source": [
    "6 . Write a Python program to print all pronic numbers between 1 and 100?"
   ]
  },
  {
   "cell_type": "code",
   "execution_count": 6,
   "id": "5517b5eb",
   "metadata": {},
   "outputs": [
    {
     "name": "stdout",
     "output_type": "stream",
     "text": [
      "Pronic numbers between 1 and 100: \n",
      "2\n",
      "6\n",
      "12\n",
      "20\n",
      "30\n",
      "42\n",
      "56\n",
      "72\n",
      "90\n"
     ]
    }
   ],
   "source": [
    "def isPronicNumber(num):    \n",
    "    flag = False;    \n",
    "        \n",
    "    for j in range(1, num+1):    \n",
    "        \n",
    "        if((j*(j+1)) == num):    \n",
    "            flag = True;    \n",
    "            break;    \n",
    "    return flag;    \n",
    "  \n",
    "print(\"Pronic numbers between 1 and 100: \");    \n",
    "for i in range(1, 101):    \n",
    "    if(isPronicNumber(i)):    \n",
    "        print(i)   "
   ]
  },
  {
   "cell_type": "code",
   "execution_count": null,
   "id": "ad13b173",
   "metadata": {},
   "outputs": [],
   "source": []
  }
 ],
 "metadata": {
  "kernelspec": {
   "display_name": "Python 3 (ipykernel)",
   "language": "python",
   "name": "python3"
  },
  "language_info": {
   "codemirror_mode": {
    "name": "ipython",
    "version": 3
   },
   "file_extension": ".py",
   "mimetype": "text/x-python",
   "name": "python",
   "nbconvert_exporter": "python",
   "pygments_lexer": "ipython3",
   "version": "3.9.12"
  }
 },
 "nbformat": 4,
 "nbformat_minor": 5
}
