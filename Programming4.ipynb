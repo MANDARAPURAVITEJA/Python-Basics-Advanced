{
 "cells": [
  {
   "cell_type": "markdown",
   "id": "45a3bd20",
   "metadata": {},
   "source": [
    "1 . Write a Python Program to Find the Factorial of a Number?"
   ]
  },
  {
   "cell_type": "code",
   "execution_count": 1,
   "id": "8a777024",
   "metadata": {},
   "outputs": [
    {
     "name": "stdout",
     "output_type": "stream",
     "text": [
      "5\n",
      "Factorial of 5 is 120\n"
     ]
    }
   ],
   "source": [
    "n=int(input())\n",
    "fact=1\n",
    "for i in range(1,n+1):\n",
    "    fact=fact*i\n",
    "print(f\"Factorial of {n} is {fact}\")"
   ]
  },
  {
   "cell_type": "markdown",
   "id": "195bbf21",
   "metadata": {},
   "source": [
    "2 . Write a Python Program to Display the multiplication Table?"
   ]
  },
  {
   "cell_type": "code",
   "execution_count": 2,
   "id": "2c7b85c0",
   "metadata": {},
   "outputs": [
    {
     "name": "stdout",
     "output_type": "stream",
     "text": [
      "Enter number: 5\n",
      "5 x 1 = 5\n",
      "5 x 2 = 10\n",
      "5 x 3 = 15\n",
      "5 x 4 = 20\n",
      "5 x 5 = 25\n",
      "5 x 6 = 30\n",
      "5 x 7 = 35\n",
      "5 x 8 = 40\n",
      "5 x 9 = 45\n",
      "5 x 10 = 50\n"
     ]
    }
   ],
   "source": [
    "n=int(input(\"Enter number: \"))\n",
    "for i in range(1,11):\n",
    "    print(f\"{n} x {i} = {i*n}\")"
   ]
  },
  {
   "cell_type": "markdown",
   "id": "0b200f17",
   "metadata": {},
   "source": [
    "3 . Write a Python Program to Print the Fibonacci sequence?"
   ]
  },
  {
   "cell_type": "code",
   "execution_count": 3,
   "id": "65e33acf",
   "metadata": {},
   "outputs": [
    {
     "name": "stdout",
     "output_type": "stream",
     "text": [
      "1\n",
      "2\n",
      "3\n",
      "5\n",
      "8\n",
      "13\n",
      "21\n",
      "34\n",
      "55\n",
      "89\n"
     ]
    }
   ],
   "source": [
    "n=10\n",
    "a=0\n",
    "b=1\n",
    "for i in range(1,n+1):\n",
    "    c=a+b; print(c)\n",
    "    a=b\n",
    "    b=c"
   ]
  },
  {
   "cell_type": "markdown",
   "id": "ccfaebd5",
   "metadata": {},
   "source": [
    "4 . Write a Python Program to Check Armstrong Number?"
   ]
  },
  {
   "cell_type": "code",
   "execution_count": 4,
   "id": "dc9ff860",
   "metadata": {},
   "outputs": [
    {
     "name": "stdout",
     "output_type": "stream",
     "text": [
      "Enter number: 153\n",
      "Armstrong number\n"
     ]
    }
   ],
   "source": [
    "n=int(input(\"Enter number: \"))\n",
    "a=n\n",
    "cube=0\n",
    "while(n!=0):\n",
    "    c=n%10\n",
    "    cube=cube+c**3\n",
    "    n=n//10\n",
    "if(cube==a):\n",
    "    print(\"Armstrong number\")\n",
    "else:\n",
    "    print(\"Not a armstrong number\")"
   ]
  },
  {
   "cell_type": "markdown",
   "id": "4e560e8c",
   "metadata": {},
   "source": [
    "5 . Write a Python Program to Find Armstrong Number in an Interval?"
   ]
  },
  {
   "cell_type": "code",
   "execution_count": 5,
   "id": "b860d2f8",
   "metadata": {},
   "outputs": [
    {
     "name": "stdout",
     "output_type": "stream",
     "text": [
      "Enter interval: 1000\n",
      "Armstrong numbers\n",
      "1\n",
      "153\n",
      "370\n",
      "371\n",
      "407\n"
     ]
    }
   ],
   "source": [
    "interval=int(input(\"Enter interval: \"))\n",
    "print(\"Armstrong numbers\")\n",
    "for n in range(1,interval+1):\n",
    "    a=n\n",
    "    cube=0\n",
    "    while(n!=0):\n",
    "        c=n%10\n",
    "        cube=cube+c**3\n",
    "        n=n//10\n",
    "    if(cube==a):\n",
    "        print(cube)"
   ]
  },
  {
   "cell_type": "markdown",
   "id": "6e654aa3",
   "metadata": {},
   "source": [
    "6 . Write a Python Program to Find the Sum of Natural Numbers?"
   ]
  },
  {
   "cell_type": "code",
   "execution_count": 6,
   "id": "a082a7f3",
   "metadata": {},
   "outputs": [
    {
     "name": "stdout",
     "output_type": "stream",
     "text": [
      "55\n"
     ]
    }
   ],
   "source": [
    "n=10\n",
    "sum=0\n",
    "for i in range(1,n+1):\n",
    "    sum+=i\n",
    "print(sum)"
   ]
  },
  {
   "cell_type": "code",
   "execution_count": null,
   "id": "feced3da",
   "metadata": {},
   "outputs": [],
   "source": []
  }
 ],
 "metadata": {
  "kernelspec": {
   "display_name": "Python 3 (ipykernel)",
   "language": "python",
   "name": "python3"
  },
  "language_info": {
   "codemirror_mode": {
    "name": "ipython",
    "version": 3
   },
   "file_extension": ".py",
   "mimetype": "text/x-python",
   "name": "python",
   "nbconvert_exporter": "python",
   "pygments_lexer": "ipython3",
   "version": "3.9.12"
  }
 },
 "nbformat": 4,
 "nbformat_minor": 5
}
