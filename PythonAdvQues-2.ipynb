{
 "cells": [
  {
   "cell_type": "markdown",
   "id": "f6436e9a",
   "metadata": {},
   "source": [
    "#### Q1. What is the relationship between classes and modules?\n",
    "Ans: Modules are collections of methods and constants. They cannot generate instances. Classes may generate instances (objects), and have per-instance state (instance variables).\n",
    "Modules may be mixed in to classes and other modules. The mixed in module’s constants and methods blend into that class’s own, augmenting the class’s functionality. Classes, however, cannot be mixed in to anything.\n",
    "A class may inherit from another class, but not from a module.\n",
    "A module may not inherit from anything.\n",
    "\n",
    "#### Q2. How do you make instances and classes?\n",
    "Ans: To create instances of a class, you call the class using class name and pass in whatever arguments its __init__ method accepts.\n",
    "\n",
    "#### Q3. Where and how should be class attributes created?\n",
    "Ans: Class attributes are the variables defined directly in the class that are shared by all objects of the class.\n",
    "Accessed using class name as well as using object with dot notation, \n",
    "e.g. classname.class_attribute or object.class_attribute\n",
    "\n",
    "Ex:\n",
    "class Student:\n",
    "    count = 0\n",
    "    def __init__(self):\n",
    "        Student.count += 1  \n",
    "\n",
    "std1=Student()\n",
    "Student.count\n",
    "\n",
    "#### Q4. Where and how are instance attributes created?\n",
    "Ans: Instance attributes are attributes or properties attached to an instance of a class. Instance attributes are defined in the constructor. Defined inside a constructor using the self parameter.\n",
    "Accessed using object dot notation e.g. object.instance_attribute\n",
    "class Student:\n",
    "    def __init__(self, name, age): \n",
    "        self.name = name\n",
    "        self.age = age\n",
    "std = Student('Bill',25)\n",
    "std.name\n",
    "\n",
    "#### Q5. What does the term “self” in a Python class mean?\n",
    "Ans: self represents the instance of the class. By using the “self” we can access the attributes and methods of the class in python. It binds the attributes with the given arguments.\n",
    "\n",
    "#### Q6. How does a Python class handle operator overloading?\n",
    "Ans: The operator overloading in Python means provide extended meaning beyond their predefined operational meaning. Such as, we use the \"+\" operator for adding two integers as well as joining two strings or merging two lists. We can achieve this as the \"+\" operator is overloaded by the \"int\" class and \"str\" class.\n",
    "\n",
    "#### Q7. When do you consider allowing operator overloading of your classes?\n",
    "Ans: The purpose of operator overloading is to provide a special meaning of an operator for a user-defined data type. The + operator will perform arithmetic addition on two numbers, merge two lists, or concatenate two strings. This feature in Python that allows the same operator to have different meaning according to the context is called operator overloading.\n",
    "\n",
    "#### Q8. What is the most popular form of operator overloading?\n",
    "Ans: A very popular and convenient example is the Addition (+) operator.\n",
    "\n",
    "#### Q9. What are the two most important concepts to grasp in order to comprehend Python OOP code?\n",
    "Ans: Inheritance, Encapsulation\n"
   ]
  }
 ],
 "metadata": {
  "kernelspec": {
   "display_name": "Python 3 (ipykernel)",
   "language": "python",
   "name": "python3"
  },
  "language_info": {
   "codemirror_mode": {
    "name": "ipython",
    "version": 3
   },
   "file_extension": ".py",
   "mimetype": "text/x-python",
   "name": "python",
   "nbconvert_exporter": "python",
   "pygments_lexer": "ipython3",
   "version": "3.9.12"
  }
 },
 "nbformat": 4,
 "nbformat_minor": 5
}
