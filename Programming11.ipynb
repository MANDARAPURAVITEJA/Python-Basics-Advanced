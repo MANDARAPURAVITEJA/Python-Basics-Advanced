{
 "cells": [
  {
   "cell_type": "markdown",
   "id": "26ff8376",
   "metadata": {},
   "source": [
    "1. Write a Python program to find words which are greater than given length k?"
   ]
  },
  {
   "cell_type": "code",
   "execution_count": 1,
   "id": "7e8f684e",
   "metadata": {},
   "outputs": [
    {
     "name": "stdout",
     "output_type": "stream",
     "text": [
      "kiran\n",
      "krishna\n"
     ]
    }
   ],
   "source": [
    "l=['ravi','kiran','sai','krishna','hi']\n",
    "for i in l:\n",
    "    if(len(i)>4):\n",
    "        print(i)"
   ]
  },
  {
   "cell_type": "markdown",
   "id": "65169da4",
   "metadata": {},
   "source": [
    "2 . Write a Python program for removing i-th character from a string?"
   ]
  },
  {
   "cell_type": "code",
   "execution_count": 3,
   "id": "5dddd0be",
   "metadata": {},
   "outputs": [
    {
     "name": "stdout",
     "output_type": "stream",
     "text": [
      "ravteja\n"
     ]
    }
   ],
   "source": [
    "s='raviteja'\n",
    "i=3\n",
    "s=s.replace(s[i],\"\",1)\n",
    "print(s)"
   ]
  },
  {
   "cell_type": "markdown",
   "id": "b17d545e",
   "metadata": {},
   "source": [
    "3 . Write a Python program to split and join a string?"
   ]
  },
  {
   "cell_type": "code",
   "execution_count": 4,
   "id": "c5cb2be9",
   "metadata": {},
   "outputs": [
    {
     "name": "stdout",
     "output_type": "stream",
     "text": [
      "ravi__teja\n"
     ]
    }
   ],
   "source": [
    "s='raviteja'\n",
    "s=s[:4]+\"__\"+s[4:]\n",
    "print(s)"
   ]
  },
  {
   "cell_type": "markdown",
   "id": "98d37ec9",
   "metadata": {},
   "source": [
    "4 . Write a Python to check if a given string is binary string or not?"
   ]
  },
  {
   "cell_type": "code",
   "execution_count": 6,
   "id": "b40ce9b7",
   "metadata": {},
   "outputs": [
    {
     "name": "stdout",
     "output_type": "stream",
     "text": [
      "Binary string\n"
     ]
    }
   ],
   "source": [
    "s='1010101'\n",
    "s=set(s)\n",
    "t={'0', '1'}\n",
    "if(s==t or s=={0} or s=={1}):\n",
    "    print(\"Binary string\")\n",
    "else:\n",
    "    print(\"Not a binary string\")"
   ]
  },
  {
   "cell_type": "markdown",
   "id": "9b53c445",
   "metadata": {},
   "source": [
    "5 . Write a Python program to find uncommon words from two Strings?"
   ]
  },
  {
   "cell_type": "code",
   "execution_count": 8,
   "id": "b4cd0f26",
   "metadata": {},
   "outputs": [
    {
     "name": "stdout",
     "output_type": "stream",
     "text": [
      "['an', 'engineer', 'a', 'doctor']\n"
     ]
    }
   ],
   "source": [
    "s='i am an engineer'\n",
    "s2='i am a doctor'\n",
    "t=s.split(\" \")\n",
    "t2=s2.split(\" \")\n",
    "g=[]\n",
    "for i in t:\n",
    "    if(i not in t2):\n",
    "        g.append(i)\n",
    "for i in t2:\n",
    "    if(i not in t):\n",
    "        g.append(i)\n",
    "print(g)"
   ]
  },
  {
   "cell_type": "markdown",
   "id": "9c2ffbe0",
   "metadata": {},
   "source": [
    "6 . Write a Python to find all duplicate characters in string?"
   ]
  },
  {
   "cell_type": "code",
   "execution_count": 10,
   "id": "b0a69456",
   "metadata": {},
   "outputs": [
    {
     "name": "stdout",
     "output_type": "stream",
     "text": [
      "['i', ' ', 'a', 'n', 'e']\n"
     ]
    }
   ],
   "source": [
    "s='i am an engineer'\n",
    "\n",
    "x=[]\n",
    "for i in s:\n",
    "    if i not in x and s.count(i)>1:\n",
    "        x.append(i)\n",
    "print(x)\n"
   ]
  },
  {
   "cell_type": "markdown",
   "id": "41cc9ca4",
   "metadata": {},
   "source": [
    "7 . Write a Python Program to check if a string contains any special character?"
   ]
  },
  {
   "cell_type": "code",
   "execution_count": 11,
   "id": "2759cee0",
   "metadata": {},
   "outputs": [
    {
     "name": "stdout",
     "output_type": "stream",
     "text": [
      "['$', '|']\n"
     ]
    }
   ],
   "source": [
    "s='$aiK|ran'\n",
    "l=[]\n",
    "for i in s:\n",
    "    if(i.isalnum()==False):\n",
    "        l.append(i)\n",
    "print(l)"
   ]
  },
  {
   "cell_type": "code",
   "execution_count": null,
   "id": "cb743aed",
   "metadata": {},
   "outputs": [],
   "source": []
  }
 ],
 "metadata": {
  "kernelspec": {
   "display_name": "Python 3 (ipykernel)",
   "language": "python",
   "name": "python3"
  },
  "language_info": {
   "codemirror_mode": {
    "name": "ipython",
    "version": 3
   },
   "file_extension": ".py",
   "mimetype": "text/x-python",
   "name": "python",
   "nbconvert_exporter": "python",
   "pygments_lexer": "ipython3",
   "version": "3.9.12"
  }
 },
 "nbformat": 4,
 "nbformat_minor": 5
}
