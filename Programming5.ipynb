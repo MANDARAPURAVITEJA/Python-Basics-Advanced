{
 "cells": [
  {
   "cell_type": "markdown",
   "id": "7ffd891d",
   "metadata": {},
   "source": [
    "1. Write a Python Program to Find LCM?"
   ]
  },
  {
   "cell_type": "code",
   "execution_count": 1,
   "id": "88654bc9",
   "metadata": {},
   "outputs": [
    {
     "name": "stdout",
     "output_type": "stream",
     "text": [
      "30\n"
     ]
    }
   ],
   "source": [
    "x=5\n",
    "y=6\n",
    "greater=max(x,y)\n",
    "while(True):\n",
    "    if(greater%x==0 and greater%y==0):\n",
    "        lcm=greater\n",
    "        break\n",
    "    else:\n",
    "        greater+=1\n",
    "print(lcm)"
   ]
  },
  {
   "cell_type": "markdown",
   "id": "272c03a6",
   "metadata": {},
   "source": [
    "2 . Write a Python Program to Find HCF?"
   ]
  },
  {
   "cell_type": "code",
   "execution_count": 2,
   "id": "ab134025",
   "metadata": {},
   "outputs": [
    {
     "name": "stdout",
     "output_type": "stream",
     "text": [
      "HCF of 50 and 10 is: 10\n"
     ]
    }
   ],
   "source": [
    "def hcf(a,b):\n",
    "    if(b==0):\n",
    "        return a\n",
    "    else:\n",
    "        return hcf(b, a%b)\n",
    "x=50\n",
    "y=10\n",
    "print(f\"HCF of {x} and {y} is:\",hcf(x,y))"
   ]
  },
  {
   "cell_type": "markdown",
   "id": "1acbe0a7",
   "metadata": {},
   "source": [
    "3 . Write a Python Program to Convert Decimal to Binary, Octal and Hexadecimal?"
   ]
  },
  {
   "cell_type": "code",
   "execution_count": 3,
   "id": "a10cc32b",
   "metadata": {},
   "outputs": [
    {
     "name": "stdout",
     "output_type": "stream",
     "text": [
      "Enter a number: 35\n",
      "Binary: 100011\n",
      "Octal: 43\n",
      "Hexadecimal: 23\n"
     ]
    }
   ],
   "source": [
    "num=int(input(\"Enter a number: \"))\n",
    "bi=bin(num)\n",
    "octal=oct(num)\n",
    "hexa=hex(num)\n",
    "print(\"Binary:\",bi[2:])\n",
    "print(\"Octal:\",octal[2:])\n",
    "print(\"Hexadecimal:\",hexa[2:])"
   ]
  },
  {
   "cell_type": "markdown",
   "id": "11908de8",
   "metadata": {},
   "source": [
    "4 . Write a Python Program To Find ASCII value of a character?"
   ]
  },
  {
   "cell_type": "code",
   "execution_count": 4,
   "id": "c73d2d40",
   "metadata": {},
   "outputs": [
    {
     "name": "stdout",
     "output_type": "stream",
     "text": [
      "Enter a character: e\n",
      "ASCII value of e is 101\n"
     ]
    }
   ],
   "source": [
    "character=input(\"Enter a character: \")\n",
    "print(f\"ASCII value of {character} is {ord(character)}\")"
   ]
  },
  {
   "cell_type": "markdown",
   "id": "ec23a22c",
   "metadata": {},
   "source": [
    "5 . Write a Python Program to Make a Simple Calculator with 4 basic mathematical operations?"
   ]
  },
  {
   "cell_type": "code",
   "execution_count": 5,
   "id": "38fc1f2e",
   "metadata": {},
   "outputs": [
    {
     "name": "stdout",
     "output_type": "stream",
     "text": [
      "Enter first number: 2\n",
      "Enter second number: 3\n",
      "Enter operation: *\n",
      "Multiplication:  6\n"
     ]
    }
   ],
   "source": [
    "a=int(input(\"Enter first number: \"))\n",
    "b=int(input(\"Enter second number: \"))\n",
    "sym=input(\"Enter operation: \")\n",
    "\n",
    "if sym=='+':\n",
    "    print(\"Addition: \",a+b)\n",
    "elif sym=='-':\n",
    "    print(\"Subtraction: \",a-b)\n",
    "elif sym=='*':\n",
    "    print(\"Multiplication: \",a*b)\n",
    "elif sym=='/': \n",
    "    print(\"Division: \",a/b)"
   ]
  },
  {
   "cell_type": "code",
   "execution_count": null,
   "id": "9b160b25",
   "metadata": {},
   "outputs": [],
   "source": []
  },
  {
   "cell_type": "code",
   "execution_count": null,
   "id": "2d2b14fd",
   "metadata": {},
   "outputs": [],
   "source": []
  }
 ],
 "metadata": {
  "kernelspec": {
   "display_name": "Python 3 (ipykernel)",
   "language": "python",
   "name": "python3"
  },
  "language_info": {
   "codemirror_mode": {
    "name": "ipython",
    "version": 3
   },
   "file_extension": ".py",
   "mimetype": "text/x-python",
   "name": "python",
   "nbconvert_exporter": "python",
   "pygments_lexer": "ipython3",
   "version": "3.9.12"
  }
 },
 "nbformat": 4,
 "nbformat_minor": 5
}
