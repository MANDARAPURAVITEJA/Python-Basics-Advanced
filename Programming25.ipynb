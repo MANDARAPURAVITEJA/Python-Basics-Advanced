{
 "cells": [
  {
   "cell_type": "raw",
   "id": "f58d3c35",
   "metadata": {},
   "source": [
    "Question1\n",
    "Create a function that takes three integer arguments (a, b, c) and returns the amount of\n",
    "integers which are of equal value.\n",
    "Examples\n",
    "equal(3, 4, 3) ➞ 2\n",
    "equal(1, 1, 1) ➞ 3\n",
    "equal(3, 4, 1) ➞ 0\n",
    "Notes\n",
    "Your function must return 0, 2 or 3."
   ]
  },
  {
   "cell_type": "code",
   "execution_count": 7,
   "id": "dae000e7",
   "metadata": {},
   "outputs": [
    {
     "name": "stdout",
     "output_type": "stream",
     "text": [
      "0\n"
     ]
    }
   ],
   "source": [
    "def equal(a,b,c):\n",
    "    if(a==b and b==c):\n",
    "        return 3\n",
    "    elif(a==b or b==c or c==a):\n",
    "        return 2\n",
    "    else:\n",
    "        return 0\n",
    "print(equal(3,4,5))"
   ]
  },
  {
   "cell_type": "raw",
   "id": "5ce3e6ae",
   "metadata": {},
   "source": [
    "Question2\n",
    "Write a function that converts a dictionary into a list of keys-values tuples.\n",
    "Notes\n",
    "Return the elements in the list in alphabetical order."
   ]
  },
  {
   "cell_type": "code",
   "execution_count": 20,
   "id": "6af45daa",
   "metadata": {},
   "outputs": [
    {
     "name": "stdout",
     "output_type": "stream",
     "text": [
      "[('A', 5), ('D', 3), ('DE', 8), ('E', 1)]\n"
     ]
    }
   ],
   "source": [
    "def dict_to_list(D):\n",
    "    d=list(D.items())\n",
    "    d.sort()\n",
    "    return d\n",
    "\n",
    "D={'D':3,'E':1,'A':5,'DE':8}\n",
    "print(dict_to_list(D))"
   ]
  },
  {
   "cell_type": "raw",
   "id": "5bd08a05",
   "metadata": {},
   "source": [
    "Question3\n",
    "Write a function that creates a dictionary with each (key, value) pair being the (lower case,\n",
    "upper case) versions of a letter, respectively.\n",
    "Examples\n",
    "notes\n",
    "All of the letters in the input list will always be lowercase."
   ]
  },
  {
   "cell_type": "code",
   "execution_count": 18,
   "id": "f843be9c",
   "metadata": {},
   "outputs": [
    {
     "name": "stdout",
     "output_type": "stream",
     "text": [
      "{'s': 'S', 'h': 'H', 'a': 'A', 'b': 'B'}\n"
     ]
    }
   ],
   "source": [
    "def mapping(l):\n",
    "    d={}\n",
    "    for i in l:\n",
    "        d[i]=i.upper()\n",
    "    return d\n",
    "\n",
    "l=['s','h','a','b']\n",
    "print(mapping(d))"
   ]
  },
  {
   "cell_type": "raw",
   "id": "8ebff5a4",
   "metadata": {},
   "source": [
    "Question4\n",
    "Write a function, that replaces all vowels in a string with a specified vowel.\n",
    "Notes\n",
    "All words will be lowercase. Y is not considered a vowel."
   ]
  },
  {
   "cell_type": "code",
   "execution_count": 23,
   "id": "04d8cc64",
   "metadata": {},
   "outputs": [
    {
     "name": "stdout",
     "output_type": "stream",
     "text": [
      "Ha, haw ara yaa?\n"
     ]
    }
   ],
   "source": [
    "def vow_replace(s,v):\n",
    "    vowel='aeiou'\n",
    "    for i in s:\n",
    "        if(i in vowel):\n",
    "            s=s.replace(i,v,1)\n",
    "    return s\n",
    "\n",
    "s=\"Hi, how are you?\"\n",
    "v='a'\n",
    "print(vow_replace(s,v))"
   ]
  },
  {
   "cell_type": "code",
   "execution_count": null,
   "id": "65ee6d8c",
   "metadata": {},
   "outputs": [],
   "source": [
    "Question5\n",
    "Create a function that takes a string as input and capitalizes a letter if its ASCII code is even\n",
    "and returns its lower case version if its ASCII code is odd."
   ]
  },
  {
   "cell_type": "code",
   "execution_count": 25,
   "id": "bbcc473b",
   "metadata": {},
   "outputs": [
    {
     "name": "stdout",
     "output_type": "stream",
     "text": [
      "To Be oR NoT To Be\n"
     ]
    }
   ],
   "source": [
    "def ascii_capitalize(s):\n",
    "    st=\"\"\n",
    "    for i in s:\n",
    "        if(ord(i)%2==0):\n",
    "            st=st+i.upper()\n",
    "        else:\n",
    "            st=st+i.lower()\n",
    "    return st\n",
    "\n",
    "s=\"to be or not to be\"\n",
    "print(ascii_capitalize(s))\n",
    "            "
   ]
  },
  {
   "cell_type": "code",
   "execution_count": null,
   "id": "15e76783",
   "metadata": {},
   "outputs": [],
   "source": []
  }
 ],
 "metadata": {
  "kernelspec": {
   "display_name": "Python 3 (ipykernel)",
   "language": "python",
   "name": "python3"
  },
  "language_info": {
   "codemirror_mode": {
    "name": "ipython",
    "version": 3
   },
   "file_extension": ".py",
   "mimetype": "text/x-python",
   "name": "python",
   "nbconvert_exporter": "python",
   "pygments_lexer": "ipython3",
   "version": "3.9.12"
  }
 },
 "nbformat": 4,
 "nbformat_minor": 5
}
