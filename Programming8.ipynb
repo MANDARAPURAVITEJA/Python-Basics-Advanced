{
 "cells": [
  {
   "cell_type": "markdown",
   "id": "5669164d",
   "metadata": {},
   "source": [
    "1. Write a Python Program to Add Two Matrices?"
   ]
  },
  {
   "cell_type": "code",
   "execution_count": 1,
   "id": "e371ace2",
   "metadata": {},
   "outputs": [
    {
     "name": "stdout",
     "output_type": "stream",
     "text": [
      "[6, 8, 10, 12]\n"
     ]
    }
   ],
   "source": [
    "l=[1,2,3,4]\n",
    "g=[5,6,7,8]\n",
    "f=[]\n",
    "for i in range(len(l)):\n",
    "    f.append(l[i]+g[i])\n",
    "print(f)"
   ]
  },
  {
   "cell_type": "markdown",
   "id": "c9dc21a0",
   "metadata": {},
   "source": [
    "2 . Write a Python Program to Multiply Two Matrices?"
   ]
  },
  {
   "cell_type": "code",
   "execution_count": 2,
   "id": "c8d7eb47",
   "metadata": {},
   "outputs": [
    {
     "name": "stdout",
     "output_type": "stream",
     "text": [
      "[[33 38]\n",
      " [67 78]]\n"
     ]
    }
   ],
   "source": [
    "import numpy as np\n",
    "l=[[1,4],[5,6]]\n",
    "g=[[5,6],[7,8]]\n",
    "print(np.dot(l,g))"
   ]
  },
  {
   "cell_type": "markdown",
   "id": "aa03da6b",
   "metadata": {},
   "source": [
    "3 . Write a Python Program to Transpose a Matrix?"
   ]
  },
  {
   "cell_type": "code",
   "execution_count": 3,
   "id": "d4b72160",
   "metadata": {},
   "outputs": [
    {
     "name": "stdout",
     "output_type": "stream",
     "text": [
      "Original Array:\n",
      "[[1 2 3]\n",
      " [4 5 6]]\n",
      "Transposed Array:\n",
      "[[1 4]\n",
      " [2 5]\n",
      " [3 6]]\n"
     ]
    }
   ],
   "source": [
    "import numpy as np\n",
    "\n",
    "arr = np.array([[1, 2, 3], [4, 5, 6]])\n",
    "\n",
    "print(f'Original Array:\\n{arr}')\n",
    "\n",
    "arr_T = arr.transpose()\n",
    "\n",
    "print(f'Transposed Array:\\n{arr_T}')"
   ]
  },
  {
   "cell_type": "markdown",
   "id": "12457f79",
   "metadata": {},
   "source": [
    "4 . Write a Python Program to Sort Words in Alphabetic Order?"
   ]
  },
  {
   "cell_type": "code",
   "execution_count": 4,
   "id": "de4b4acb",
   "metadata": {},
   "outputs": [
    {
     "name": "stdout",
     "output_type": "stream",
     "text": [
      "['ineuron', 'ravi', 'teja']\n"
     ]
    }
   ],
   "source": [
    "l=['ravi','teja','ineuron']\n",
    "l.sort()\n",
    "print(l)"
   ]
  },
  {
   "cell_type": "markdown",
   "id": "e9dec8c4",
   "metadata": {},
   "source": [
    "5 . Write a Python Program to Remove Punctuation From a String?"
   ]
  },
  {
   "cell_type": "code",
   "execution_count": 5,
   "id": "89be3aee",
   "metadata": {},
   "outputs": [
    {
     "name": "stdout",
     "output_type": "stream",
     "text": [
      "hii iam Raviteja\n"
     ]
    }
   ],
   "source": [
    "punct = '''!()-[]{};:'\"\\,<>./?@#$%^&*_~'''\n",
    "l='hii,, iam Ravit_ej-a'\n",
    "t=\"\"\n",
    "for i in l:\n",
    "    if(i not in punct):\n",
    "        t=t+i\n",
    "print(t)"
   ]
  },
  {
   "cell_type": "code",
   "execution_count": null,
   "id": "346d7a16",
   "metadata": {},
   "outputs": [],
   "source": []
  }
 ],
 "metadata": {
  "kernelspec": {
   "display_name": "Python 3 (ipykernel)",
   "language": "python",
   "name": "python3"
  },
  "language_info": {
   "codemirror_mode": {
    "name": "ipython",
    "version": 3
   },
   "file_extension": ".py",
   "mimetype": "text/x-python",
   "name": "python",
   "nbconvert_exporter": "python",
   "pygments_lexer": "ipython3",
   "version": "3.9.12"
  }
 },
 "nbformat": 4,
 "nbformat_minor": 5
}
